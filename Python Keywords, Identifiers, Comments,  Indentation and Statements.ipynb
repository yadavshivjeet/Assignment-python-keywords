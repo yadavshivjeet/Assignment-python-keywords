{
  "metadata": {
    "kernelspec": {
      "name": "python",
      "display_name": "Python (Pyodide)",
      "language": "python"
    },
    "language_info": {
      "codemirror_mode": {
        "name": "python",
        "version": 3
      },
      "file_extension": ".py",
      "mimetype": "text/x-python",
      "name": "python",
      "nbconvert_exporter": "python",
      "pygments_lexer": "ipython3",
      "version": "3.8"
    }
  },
  "nbformat_minor": 4,
  "nbformat": 4,
  "cells": [
    {
      "cell_type": "markdown",
      "source": "Question:1:Explain the significance of Python keywords and provide examples of five keywords?",
      "metadata": {}
    },
    {
      "cell_type": "markdown",
      "source": "Python keyword are some predefined and reversed word in Python that have special meaning. Keyword are used to define the syntax of coding.\n\nThe keyword can not be used as an identifier,function,or variable name.\nAll the keyword in python are written in lowercase in python 3.11.\n\nExample:\n       and,or,not,if,else,elif.....",
      "metadata": {}
    },
    {
      "cell_type": "markdown",
      "source": "Question:2:Describe the rules for defining identifiers in Python and provide an example?",
      "metadata": {}
    },
    {
      "cell_type": "markdown",
      "source": "> It can not be a reversed python keyword.\n> It should not contain with space.\n> It should be combination of A-Z,a-z,0-9 or undescore.\n> It should not contain any special character other than undescore(_).\n\nValid indentation:\n> var_1\n> var1\n> _var1\n> _1_var\n\nInvalid indentation:\n\n> !var1\n> 1var\n> 1_var\n> var#1\n> var 1",
      "metadata": {}
    },
    {
      "cell_type": "markdown",
      "source": "Example:Valid identifier:",
      "metadata": {}
    },
    {
      "cell_type": "code",
      "source": "var=200\nvar_1=5\nvar1=10\n_var_1=20\n_1_var=90\nprint( var+var1+_var_1+_1_var)",
      "metadata": {
        "trusted": true
      },
      "outputs": [
        {
          "name": "stdout",
          "text": "320\n",
          "output_type": "stream"
        }
      ],
      "execution_count": 3
    },
    {
      "cell_type": "markdown",
      "source": "Example: Invalid identifier.",
      "metadata": {}
    },
    {
      "cell_type": "code",
      "source": "!var1=100\n1var=10\n1_var=101\nvar#1=89\nvar 1=76\nprint(!var,1var,1_var,var#1,var 1)",
      "metadata": {
        "trusted": true
      },
      "outputs": [
        {
          "ename": "<class 'SyntaxError'>",
          "evalue": "invalid decimal literal (<ipython-input-5-a8b457a0ac76>, line 2)",
          "traceback": [
            "\u001b[0;36m  Cell \u001b[0;32mIn[5], line 2\u001b[0;36m\u001b[0m\n\u001b[0;31m    1var=10\u001b[0m\n\u001b[0m    ^\u001b[0m\n\u001b[0;31mSyntaxError\u001b[0m\u001b[0;31m:\u001b[0m invalid decimal literal\n"
          ],
          "output_type": "error"
        }
      ],
      "execution_count": 5
    },
    {
      "cell_type": "markdown",
      "source": "Question:3:What are comments in Python, and why are they usefule Provide an example?",
      "metadata": {}
    },
    {
      "cell_type": "markdown",
      "source": "Comment in python are the line in the code that are ignored by the interpreter during the execution of the program.\ncomment readability enhance the readability of the code and the help the programmer to understand the code very carefully.\nIt also help collaborating with other devoloper as adding comments make it easier to explian the code.\n\n1.Enhance the code readability.\n2.Explian code to other.\n3.Understanding code if studied after some time.\n4.Documenting the steps and need for a function .\n5.Sharing code with fellow devolpers.\n6.Collaborating with multiple people.",
      "metadata": {}
    },
    {
      "cell_type": "markdown",
      "source": "Question:4:Why is proper indentation important in Python?\n\nIndentation is a very important in python because without properly indenting the python code ,you will seening the indentation Error and the code will get compiled. ",
      "metadata": {}
    },
    {
      "cell_type": "markdown",
      "source": "Question:5: What happens if indentation is incorrect in Python?\n\nWithout properly indenting the python code you will end up seeing indentationError and code will not get compiled.",
      "metadata": {}
    },
    {
      "cell_type": "markdown",
      "source": "Question:6:Differentiate between expression and statement in Python with examples?",
      "metadata": {}
    },
    {
      "cell_type": "markdown",
      "source": "Expression:\nAn expression are special statement used for some special purpose and we perform some operataor and make \nchange in the value by appylying some logic.\n    ",
      "metadata": {}
    },
    {
      "cell_type": "markdown",
      "source": "Statement:\nStatement are any regular line in the written in python program which may contain some in formula.\nThese execution of such line the state of variable moreover any expresion.",
      "metadata": {}
    },
    {
      "cell_type": "code",
      "source": "#Example:\nx=300 # a statement\nx=x+200 # a expression\nprint(x)",
      "metadata": {
        "trusted": true
      },
      "outputs": [
        {
          "name": "stdout",
          "text": "500\n",
          "output_type": "stream"
        }
      ],
      "execution_count": 6
    },
    {
      "cell_type": "code",
      "source": "",
      "metadata": {
        "trusted": true
      },
      "outputs": [],
      "execution_count": null
    }
  ]
}